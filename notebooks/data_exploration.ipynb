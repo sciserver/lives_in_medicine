{
 "cells": [
  {
   "cell_type": "code",
   "execution_count": 5,
   "id": "d3c3b910-e2e0-4dee-b2e8-de8b3661d82c",
   "metadata": {
    "execution": {
     "iopub.execute_input": "2024-02-23T15:57:28.224483Z",
     "iopub.status.busy": "2024-02-23T15:57:28.223655Z",
     "iopub.status.idle": "2024-02-23T15:57:36.203697Z",
     "shell.execute_reply": "2024-02-23T15:57:36.200665Z",
     "shell.execute_reply.started": "2024-02-23T15:57:28.224367Z"
    },
    "tags": []
   },
   "outputs": [
    {
     "name": "stdout",
     "output_type": "stream",
     "text": [
      "Collecting lxml\n",
      "  Downloading lxml-5.1.0-cp39-cp39-manylinux_2_17_x86_64.manylinux2014_x86_64.whl (8.0 MB)\n",
      "\u001b[2K     \u001b[90m━━━━━━━━━━━━━━━━━━━━━━━━━━━━━━━━━━━━━━━━\u001b[0m \u001b[32m8.0/8.0 MB\u001b[0m \u001b[31m17.3 MB/s\u001b[0m eta \u001b[36m0:00:00\u001b[0m00:01\u001b[0m00:01\u001b[0m\n",
      "\u001b[?25hInstalling collected packages: lxml\n",
      "Successfully installed lxml-5.1.0\n",
      "Note: you may need to restart the kernel to use updated packages.\n"
     ]
    }
   ],
   "source": [
    "%pip install lxml"
   ]
  },
  {
   "cell_type": "code",
   "execution_count": 70,
   "id": "261c5c18-fc06-4a15-bba9-49c09f85d0e2",
   "metadata": {
    "execution": {
     "iopub.execute_input": "2024-02-23T17:58:10.528184Z",
     "iopub.status.busy": "2024-02-23T17:58:10.527383Z",
     "iopub.status.idle": "2024-02-23T17:58:10.657100Z",
     "shell.execute_reply": "2024-02-23T17:58:10.654952Z",
     "shell.execute_reply.started": "2024-02-23T17:58:10.528129Z"
    },
    "tags": []
   },
   "outputs": [],
   "source": [
    "from collections import defaultdict\n",
    "from functools import reduce\n",
    "from itertools import chain\n",
    "from typing import List, Tuple \n",
    "\n",
    "import bs4\n",
    "from tqdm.notebook import tqdm"
   ]
  },
  {
   "cell_type": "code",
   "execution_count": 123,
   "id": "4aa95aa5-5b4b-4ef7-906a-a4fbdb531ca1",
   "metadata": {
    "execution": {
     "iopub.execute_input": "2024-02-23T19:56:38.645578Z",
     "iopub.status.busy": "2024-02-23T19:56:38.644630Z",
     "iopub.status.idle": "2024-02-23T19:56:38.659838Z",
     "shell.execute_reply": "2024-02-23T19:56:38.657575Z",
     "shell.execute_reply.started": "2024-02-23T19:56:38.645513Z"
    },
    "tags": []
   },
   "outputs": [],
   "source": [
    "def refworks_get_children_tag_names_values(parent:bs4.element.Tag) -> List[Tuple[str, str]]:\n",
    "    return list(filter(\n",
    "        lambda x: x[0] is not None, \n",
    "        map(lambda t: (t.name, set((t.string.strip(),))), parent.children)\n",
    "    ))\n",
    "\n",
    "def update_dict_with_records(d:defaultdict, kv:Tuple[str, set]) -> defaultdict:\n",
    "    key, value = kv\n",
    "    d[key] = d[key] | value\n",
    "    return d"
   ]
  },
  {
   "cell_type": "markdown",
   "id": "24d63734-1a8c-4d64-b9e3-b1b6eb632094",
   "metadata": {
    "tags": []
   },
   "source": [
    "Examining **export.xml**, the refworks file.\n",
    "\n",
    "### XML record description\n",
    "\n",
    "`<reference></reference>` is the item level tag\n",
    "\n",
    "Each reference **may** have the following attributes:\n",
    "\n",
    "- `<rt>` is reference type for example: \"Book, Whole\" and \"Video/DVD\". There is also \"Generic\" which is odd\n",
    "- `<sr>` unknown, seems to only have a single value \"1\"\n",
    "- `<id>` the refworks Id\n",
    "- `<a1>` Seems to be first author\n",
    "- `<t1>` Seems to be title\n",
    "- `<yr>` year\n",
    "- `<k1>` Maybe subject, examples: \"Psychology in literature\", \"Religion\"\n",
    "- `<ab>` Abstract, note only 242 of the 2000 references have an abstract.\n",
    "- `<no>` No idea, maybe some sort of topic example: '87032251 Edward E. Rosenbaum. 25 cm.; RN: AOLCancer/Laryngeal, throat, and vocal cord cancer; ID: 2154'\n",
    "- `<ed>` Edition, could be string like/numeric, examples: '2013/07/23', 'New, rev.'\n",
    "- `<pb>` Publisher: 'Trinity Mirror Sport Media', 'University of Rochester Press'\n",
    "- `<pp>` No idea, some location maybe, examples: 'Shizuoka-ken Hamamatsu-shi', 'New York,', 'Liverpool'\n",
    "- `<sn>` Serial number \n",
    "- `<ad>` Something academic? example: 'Division of General Medicine, Emory University School of Medicine, Atlanta, GA 30303, USA. atorke@emory.edu'\n",
    "- `<an>` No idea, some sort of number, examples: '016084891', '39510772'\n",
    "- `<db>` No idea, text description maybe, examples: 'The cancer monologue project', 'Shifāʼuddaulah kī sarguzasht\n",
    "- `<cn>` No idea, examples: 'BODBL XWeek 32 (12) Bodleian Library XWeek 32 (12)', 'RSLBL 15085 e.668 Radcliffe Science Library 15085 e.668 (Box B000000204119)'\n",
    "- `<lk>` Links, urls\n",
    "- `<sp>` Something related to edition maybe, examples: '75', 'iv, 1 , 6', '471'\n",
    "- `<jf>` Journal maybe, examples: 'Conscious Cogn', 'Bull Med Libr Assoc'\n",
    "- `<jo>` Also Journal maybe, examples: 'Psychother.Psychosom.', 'Rocz.Akad.Med.Bialymst.'\n",
    "- `<vo>` verion maybe, examples: '75', '74', '76'\n",
    "- `<is>` issue maybe, examples: '13', '3', '9246'\n",
    "- `<fd>` A date, examples: 'Sep', 'Aug', 'Jul 6'\n",
    "- `<do>` DOI\n",
    "- `<a2>` A tag associated with audio sources?, examples: 'Narrated by Anne,Bancroft', 'postscript read by Greg,Louganis'\n",
    "- `<la>` Language, examples: 'In Turkish.', 'In English, and one article in Chinese.'"
   ]
  },
  {
   "cell_type": "code",
   "execution_count": 30,
   "id": "e44948c4-b2de-40d8-996b-52db4d5118fa",
   "metadata": {
    "execution": {
     "iopub.execute_input": "2024-02-23T17:07:12.234930Z",
     "iopub.status.busy": "2024-02-23T17:07:12.233669Z",
     "iopub.status.idle": "2024-02-23T17:07:16.248514Z",
     "shell.execute_reply": "2024-02-23T17:07:16.246374Z",
     "shell.execute_reply.started": "2024-02-23T17:07:12.234833Z"
    },
    "tags": []
   },
   "outputs": [],
   "source": [
    "with open(\"../data/export.xml\", \"r\") as f:\n",
    "    parser = bs4.BeautifulSoup(f.read(), \"xml\")"
   ]
  },
  {
   "cell_type": "code",
   "execution_count": 46,
   "id": "882d8a6b-a9a2-4ac4-8455-87b960014c06",
   "metadata": {
    "execution": {
     "iopub.execute_input": "2024-02-23T17:32:22.944418Z",
     "iopub.status.busy": "2024-02-23T17:32:22.943090Z",
     "iopub.status.idle": "2024-02-23T17:32:23.105929Z",
     "shell.execute_reply": "2024-02-23T17:32:23.103648Z",
     "shell.execute_reply.started": "2024-02-23T17:32:22.944308Z"
    },
    "tags": []
   },
   "outputs": [
    {
     "data": {
      "text/plain": [
       "2000"
      ]
     },
     "execution_count": 46,
     "metadata": {},
     "output_type": "execute_result"
    }
   ],
   "source": [
    "references = parser.find_all(\"reference\")\n",
    "len(references)"
   ]
  },
  {
   "cell_type": "code",
   "execution_count": 86,
   "id": "c6678495-30d7-4c93-b20b-0c885be415b6",
   "metadata": {
    "execution": {
     "iopub.execute_input": "2024-02-23T18:32:39.735715Z",
     "iopub.status.busy": "2024-02-23T18:32:39.734773Z",
     "iopub.status.idle": "2024-02-23T18:32:42.666514Z",
     "shell.execute_reply": "2024-02-23T18:32:42.664504Z",
     "shell.execute_reply.started": "2024-02-23T18:32:39.735655Z"
    },
    "tags": []
   },
   "outputs": [
    {
     "data": {
      "application/vnd.jupyter.widget-view+json": {
       "model_id": "0cdd9d73476841f8bc1769af86710a86",
       "version_major": 2,
       "version_minor": 0
      },
      "text/plain": [
       "parsing references:   0%|          | 0/2000 [00:00<?, ?it/s]"
      ]
     },
     "metadata": {},
     "output_type": "display_data"
    }
   ],
   "source": [
    "tags_and_values = reduce(\n",
    "    update_dict_with_records, \n",
    "    chain.from_iterable(map(refworks_get_children_tag_names_values, tqdm(references, desc=\"parsing references\"))), \n",
    "    defaultdict(set)\n",
    ")"
   ]
  },
  {
   "cell_type": "code",
   "execution_count": 90,
   "id": "d4dfd460-ba26-4616-9840-be45a5696bd5",
   "metadata": {
    "collapsed": true,
    "execution": {
     "iopub.execute_input": "2024-02-23T18:57:49.710804Z",
     "iopub.status.busy": "2024-02-23T18:57:49.710021Z",
     "iopub.status.idle": "2024-02-23T18:57:49.737707Z",
     "shell.execute_reply": "2024-02-23T18:57:49.735959Z",
     "shell.execute_reply.started": "2024-02-23T18:57:49.710746Z"
    },
    "jupyter": {
     "outputs_hidden": true
    },
    "tags": []
   },
   "outputs": [
    {
     "name": "stdout",
     "output_type": "stream",
     "text": [
      "Tag: <rt>\n",
      "Unique values: 6\n",
      "5 samples: ['Dissertation/Thesis', 'Motion Picture', 'Generic', 'Video/DVD', 'Book, Whole']\n",
      "\n",
      "Tag: <sr>\n",
      "Unique values: 1\n",
      "5 samples: ['1']\n",
      "\n",
      "Tag: <id>\n",
      "Unique values: 2000\n",
      "5 samples: ['RefID:14281-tibble1972john', \"RefID:14964-weiner2004brother's\", 'RefID:13277-severo1985lisa', 'RefID:13221-seibert1968pebbles', \"RefID:13695-smolan1992medicine's\"]\n",
      "\n",
      "Tag: <a1>\n",
      "Unique values: 2357\n",
      "5 samples: ['Song,Hag-un', 'Gauthier,Ursula', 'Wadler,Joyce', 'Todd,Alexandra Dundas', 'Wall,Barbara']\n",
      "\n",
      "Tag: <t1>\n",
      "Unique values: 1850\n",
      "5 samples: ['The cancer monologue project', 'Shifāʼuddaulah kī sarguzasht', 'Peering through the darkness: the subjective experience of clinical depression', 'Not the last goodbye : reflections on life, death, healing and cancer', \"Living with prostate cancer : a patient's survival guide\"]\n",
      "\n",
      "Tag: <yr>\n",
      "Unique values: 117\n",
      "5 samples: ['1972', '2001', '1993', '2003', '1976']\n",
      "\n",
      "Tag: <op>\n",
      "Unique values: 1287\n",
      "5 samples: ['viii, 242 p.', '168 p.', 'v. <1 >', '123 p., 1 leaf of plates', 'xix, 236 p.']\n",
      "\n",
      "Tag: <k1>\n",
      "Unique values: 5771\n",
      "5 samples: ['Psychology in literature', 'Fertilization in vitro, Human.', 'Medicine, Medieval.', 'Iran-Contra Affair, 1985-1990 Biography.', 'Religion']\n",
      "\n",
      "Tag: <ab>\n",
      "Unique values: 242\n",
      "5 samples: [\"OBJECTIVE: To explore experiences from a process of change for women with chronic pain. DESIGN, SETTING, AND SUBJECTS: A group-based treatment programme was intended to increase the awareness of how attitudes, habits and bodily practices are established, developed, and can be transformed, and thereby probably reduce pain. A single case story from this treatment programme is presented. A semi-structured interview was conducted with all participants about their experiences after completion of the programme. All eight women reported that they had benefited from participation. From these interviews a single case was chosen to represent the study's findings. A narrative analysis was conducted, focusing this patient's story from a phenomenological understanding of the body. RESULTS: The patient's story illuminates how events and experiences can be connected, and how she interprets her contemporary situation in the light of previous experiences. In this way, she alters her understanding and develops a new approach to her situation. Her story demonstrated how symptoms can be understood as the result of stressful habits that the body has developed as a reaction to demands from the surroundings. CONCLUSIONS: Reflection on how the body functions may lead to a new realization of how phenomena are interconnected, thus making changes possible.\", '\"Green Vanilla Tea is a true story of love and courage in the face of a deadly and little understood illness. With literary finesse, compassion, and a powerful gift of storytelling, Marie Williams writes poignantly of her husband Dominic\\'s struggles with early onset dementia and amyotrophic lateral sclerosis (ALS) at the age of 40, and how their family found hope amidst the wreckage of a mysterious neurological condition. As the condition develops and progresses, the normally devoted family man and loving partner seems to disappear beneath an expressionless facade, erratic behavior, and a relentless desire to wander that often leaves him lost. The road to diagnosis is long and confusing, and what starts off as perplexing for the family then becomes frightening. The man they love is changing, and no one seems to know why. He no longer turns up to his sons\\' high school events. He falls and bumps into things. He becomes verbally disinhibited, emotionally disengaged, and, at times, belligerent. He doesn\\'t seem to be able to read the social cues of other people. He gets lost in familiar places, as well as on obsessive work trips overseas. He recklessly spends the family money, leaving them in near financial ruin. Despite this, Williams and her children strive to find new ways to keep him safe and to connect with the husband and father they love so dearly. While the family learns to cope with Dominic\\'s illness-which they call the Green Goblin-Williams is determined that her children reclaim the dad of their memories. She finds creative ways to make visible the stories of the man beyond the illness, and helps them remember him as the engaged, healthy, and loving man she fell in love with. She humanizes the experience through storytelling and assembling a quilt made up of transferred photographs, painted artwork, family footprints, and personal inscriptions from family and friends. This, along with tea rituals, music, and stories of fatherhood, love and value, support them as fierce advocates for Dominic\\'s dignity and give the family new ways to be together as they journey through his decline. Spanning between moments of intense joy and incredible sadness, this book is a passionate testament to one family\\'s unconditional love for one another. It is, \"a tale of a strange place-the real world- in which green goblins and hope find a way to live together.\" Above all, it is a love story\"--', '\"This is the first book of its kind to include the personal accounts of people who have survived injury to the brain, along with professional therapists\\' reports of their progress through rehabilitation. The paintings and stories of survivors combine with experts\\' discussions of the theory and practice of brain injury rehabilitation to illustrate the ups and downs that survivors encounter in their journey from pre-injury status to insult and post-injury rehabilitation. Wilson, Winegardner and Ashworth\\'s focus on the survivors\\' perspective shows how rehabilitation is an interactive process between people with brain injury, health care staff, and others, and gives the survivors the chance to tell their own stories of life before their injury, the nature of the insult, their early treatment, and subsequent rehabilitation.Presenting practical approaches to help survivors of brain injury achieve functionally relevant and meaningful goals, Life After Brain Injury: Survivors Stories will help all those working in rehabilitation understand the principles involved in holistic brain injury rehabilitation and how these principles, combined with theory and models, translate into clinical practice. This book will be of great interest to anyone who wishes to extend their knowledge of the latest theories and practices involved in making life more manageable for people who have suffered damage to the brain. Life After Brain Injury: Survivors Stories will also be essential for clinical psychologists, neuropsychologists, and anybody dealing with acquired brain injury whether they be a survivor of a brain injury themselves, a relative, a friend or a carer\"-- \"This is the first book of its kind to include the personal accounts of people who have survived injury to the brain, along with professional therapists\\' reports of their progress through rehabilitation. The paintings and stories of survivors combine with experts\\' discussions of the theory and practice of brain injury rehabilitation to illustrate the ups and downs that survivors encounter in their journey from pre-injury status to insult and post-injury rehabilitation. Wilson, Winegardner and Ashworth\\'s focus on the survivors\\' perspective shows how rehabilitation is an interactive process between people with brain injury, health care staff, and others, and gives the survivors the chance to tell their own stories of life before their injury, the nature of the insult, their early treatment, and subsequent rehabilitation. Presenting practical approaches to help survivors of brain injury achieve functionally relevant and meaningful goals, Life After Brain Injury: Survivors\\' Stories will help all those working in rehabilitation understand the principles involved in holistic brain injury rehabilitation and how these principles, combined with theory and models, translate into clinical practice. This book will be of great interest to anyone who wishes to extend their knowledge of the latest theories and practices involved in making life more manageable for people who have suffered damage to the brain. Life After Brain Injury: Survivors\\' Stories will also be essential for clinical psychologists, neuropsychologists, and anybody dealing with acquired brain injury whether they be a survivor of a brain injury themselves, a relative, a friend or a carer\"--', \"Includes stories of people who are able to navigate the world and communicate with others despite losing what many of us consider indispensable senses and faculties: the power of speech, the capacity to recognize faces, the sense of three-dimensional space, the ability to read, and the sense of sight. This book is a testament to the complexity of vision and the brain and to the power of creativity and adaptation, and it provides a whole new perspective on the power of language and communication, as we try to imagine what it is to perceive through another person's eyes, or another person's mind.\", \"Recent studies in cognitive neuroscience have suggested that the integration of information about the internal bodily state and the external environment is crucial for the experience of emotion. Extensive overlap between the neural mechanisms underlying the subjective emotion and those involved in interoception (perception of that which is arising from inside the body) has been identified. However, the mechanisms of interaction between the neural substrates of interoception and emotional experience remain unclear. We examined the common and distinct features of the neural activity underlying evaluation of emotional and bodily state using functional magnetic resonance imaging (fMRI). The right anterior insular cortex and ventromedial prefrontal cortex (VMPFC) were identified as commonly activated areas. As both of these areas are considered critical for interoceptive awareness, these results suggest that attending to the bodily state underlies awareness of one's emotional state. Uniquely activated areas involved in the evaluation of emotional state included the temporal pole, posterior and anterior cingulate cortex, medial frontal gyrus, and inferior frontal gyrus. Also the precuneus was functionally associated with activity of the right anterior insular cortex and VMPFC when evaluating emotional state. Our findings indicate that activation in these areas and the precuneus are functionally associated for accessing interoceptive information and underpinning subjective experience of the emotional state. Thus, awareness of one's own emotional state appears to involve the integration of interoceptive information with an interpretation of the current situation.\"]\n",
      "\n",
      "Tag: <no>\n",
      "Unique values: 2000\n",
      "5 samples: ['87032251 Edward E. Rosenbaum. 25 cm.; RN: AOLCancer/Laryngeal, throat, and vocal cord cancer; ID: 2154', 'Spiegel, Maura Charon, Rita eng Editorial 2006/10/17 09:00 Lit Med. 2006 Spring;25(1):vi-xi.; ID: 8214', '95045236 edited by] Edmund J. Sass with George Gottfried, Anthony Sorem ; foreword by Richard Owen. 23 cm. Includes bibliographical references (p. 275]-278); ID: 8669', 'GBA695958 £7.99 Brian Wildsmith. chiefly col. ill. ; 31 cm. Originally published: 2002.; ID: 824', '96078241 //r97 (Owen Harding), with a memoir by Stacey B. Day. ill. ; 29 cm. Includes index.; ID: 5224']\n",
      "\n",
      "Tag: <ed>\n",
      "Unique values: 113\n",
      "5 samples: ['2013/07/23', 'New, rev.', '1st U.S.', 'Expanded edition.', 'First Scribner trade paperback edition.']\n",
      "\n",
      "Tag: <pb>\n",
      "Unique values: 1189\n",
      "5 samples: ['Trinity Mirror Sport Media', 'University of Rochester Press', 'Distributed by Logos International', 'AuthorHouse', 'Princeton University Press']\n",
      "\n",
      "Tag: <pp>\n",
      "Unique values: 713\n",
      "5 samples: ['Shizuoka-ken Hamamatsu-shi', 'New York,', 'Liverpool', 'Amstelaedami', 'Folkestone']\n",
      "\n",
      "Tag: <sn>\n",
      "Unique values: 1687\n",
      "5 samples: ['1571743537 (hard alk. paper)', '1400033535 (pbk.) 9781400033539', '0146-1672(PRINT)01461672(LINKING)', '9655118142', '0679448438 9780679448433']\n",
      "\n",
      "Tag: <ad>\n",
      "Unique values: 115\n",
      "5 samples: ['Division of General Medicine, Emory University School of Medicine, Atlanta, GA 30303, USA. atorke@emory.edu', 'Department of Primary Care and General Practice, University of Birmingham, Edgbaston, UK. j.r.skelton@bham.ac.uk', 'Department of Psychology, University of Copenhagen, Denmark.', 'Shiftwork Research Group, School of Psychology, University of Leeds, UK.', 'Florida State University College of Medicine.']\n",
      "\n",
      "Tag: <an>\n",
      "Unique values: 1959\n",
      "5 samples: ['016084891', '39510772', '13290211', '12555525', '3887786']\n",
      "\n",
      "Tag: <db>\n",
      "Unique values: 1842\n",
      "5 samples: ['The cancer monologue project', 'Shifāʼuddaulah kī sarguzasht', 'Peering through the darkness: the subjective experience of clinical depression', 'The Subjective Experience of Social Class and Upward Mobility Among African American Men in Graduate School', 'Not the last goodbye : reflections on life, death, healing and cancer']\n",
      "\n",
      "Tag: <cn>\n",
      "Unique values: 723\n",
      "5 samples: ['BODBL XWeek 32 (12) Bodleian Library XWeek 32 (12)', 'RSLBL 15085 e.668 Radcliffe Science Library 15085 e.668 (Box B000000204119)', 'HERCL E 116/ROS RSLBL M94.G00334 Hertford College Library E 116/ROS Radcliffe Science Library M94.G00334 (Box B000001033411)', 'BODBL Week 29 (10) Bodleian Library Week 29 (10)', 'BODBL XWeek 14 (15) Bodleian Library XWeek 14 (15)']\n",
      "\n",
      "Tag: <lk>\n",
      "Unique values: 562\n",
      "5 samples: ['https://sites.google.com/a/patientstales.org/home/home http://www.worldcat.org/oclc/43240254', 'http://www.ncbi.nlm.nih.gov/pubmed/792991', 'http://gateway.proquest.com/openurl?ctx_ver=Z39.88-2003&res_id=xri:eebo&rft_val_fmt=&rft_id=xri:eebo:image:153535', 'http://www.ncbi.nlm.nih.gov/pubmed/11321901', 'http://www.loc.gov/catdir/description/hol031/2001056132.html']\n",
      "\n",
      "Tag: <sp>\n",
      "Unique values: 212\n",
      "5 samples: ['75', 'iv, 1 , 6', '471', '1197', '676']\n",
      "\n",
      "Tag: <jf>\n",
      "Unique values: 172\n",
      "5 samples: ['Conscious Cogn', 'Bull Med Libr Assoc', 'J Nerv Ment Dis', 'J Pers Assess', 'Med J Aust']\n",
      "\n",
      "Tag: <jo>\n",
      "Unique values: 96\n",
      "5 samples: ['Psychother.Psychosom.', 'Rocz.Akad.Med.Bialymst.', 'J.Gen.Intern.Med.', 'N.Y.State J.Med.', 'Pharos Alpha Omega Alpha.Honor.Med.Soc.']\n",
      "\n",
      "Tag: <vo>\n",
      "Unique values: 107\n",
      "5 samples: ['75', '74', '76', '91', '47']\n",
      "\n",
      "Tag: <is>\n",
      "Unique values: 26\n",
      "5 samples: ['13', '3', '9246', '1-2', '27']\n",
      "\n",
      "Tag: <fd>\n",
      "Unique values: 34\n",
      "5 samples: ['Sep', 'Aug', 'Jul 6', 'Oct 20', 'Oct']\n",
      "\n",
      "Tag: <do>\n",
      "Unique values: 89\n",
      "5 samples: ['10.1097/01.ACM.0000232423.81299.fe', '10.1523/JNEUROSCI.3215-14.2014', '10.1177/1049732309358330', '10.1080/02813430802177305', '10.1348/000711009X416416']\n",
      "\n",
      "Tag: <a2>\n",
      "Unique values: 14\n",
      "5 samples: ['Narrated by the,author', 'instrumentalists', 'Narrated by Anne,Bancroft', 'postscript read by Greg,Louganis', 'Read by Kate,McIntyre']\n",
      "\n",
      "Tag: <la>\n",
      "Unique values: 28\n",
      "5 samples: ['In Turkish.', 'In English, and one article in Chinese.', 'In Arabic.', 'In Panjabi.', 'Parallel Latin text and English translation.']\n",
      "\n"
     ]
    }
   ],
   "source": [
    "for tag_name in tags_and_values:\n",
    "    print(f\"Tag: <{tag_name}>\") \n",
    "    print(f\"Unique values: {len(tags_and_values[tag_name])}\")\n",
    "    print(f\"5 samples: {list(tags_and_values[tag_name])[:5]}\")\n",
    "    print()\n",
    "                            "
   ]
  },
  {
   "cell_type": "markdown",
   "id": "e0032953-55b1-4eb8-8655-789ab8ddf116",
   "metadata": {
    "execution": {
     "iopub.execute_input": "2024-02-23T19:29:58.086553Z",
     "iopub.status.busy": "2024-02-23T19:29:58.083797Z",
     "iopub.status.idle": "2024-02-23T19:29:58.105905Z",
     "shell.execute_reply": "2024-02-23T19:29:58.103635Z",
     "shell.execute_reply.started": "2024-02-23T19:29:58.086383Z"
    },
    "tags": []
   },
   "source": [
    "Examining **HumExMedMasterLibrary-Converted.xml**, the Endnote file.\n",
    "\n",
    "### XML record description\n",
    "\n",
    "`<record></record>` is the item level tag\n",
    "\n",
    "Each reference **may** have the following attributes:\n",
    "\n",
    "- `<database>` reference to the endnote file\n",
    "- `<source-app>` \"EndNote\"\n",
    "- `<rec-number>` endnote id\n",
    "- `<foreign-keys>` db reference key\n",
    "- `<ref-type>` seems like integer category for media\n",
    "- `<contributors>` possible authors\n",
    "- `<titles>` title\n",
    "- `<pages>` page number of the reference\n",
    "- `<keywords>` ...keywords, examples: 'Brill, Alida, 1950-', 'Fertilization in vitro, Human.' \n",
    "- `<dates>` years as a string\n",
    "- `<accession-num>` Another kind of id number  \n",
    "- `<call-num>` Possibly library bibliographic id, examples: 'BODBL 24728 e.64/2\\rBodleian Library 24728 e.64/2', 'SCABL HM291.SOC 1998\\rSoc and Cultural Anth Library HM291.SOC 1998'\n",
    "-  `<notes>` misc notes\n",
    "-  `<urls>` links\n",
    "-  `<label>` misc labels\n",
    "- `<num-vols>` media description\n",
    "- `<pub-location>` publisher location\n",
    "- `<publisher>` publisher\n",
    "- `<isbn>` isbn number\n",
    "- `<number>` not clear what it is\n",
    "- `<edition>` edition\n",
    "- `<periodical>` periodical name\n",
    "- `<volume>` record volum\n",
    "- `<electronic-resource-num>` possible bibliographic id\n",
    "- `<language>` record language\n",
    "- `<orig-pub>` original publisher\n",
    "- `<alt-periodical>` alternate periodical\n",
    "- `<remote-database-name>` remote db protocol\n",
    "- `<remote-database-provider>` remote db provider name\n",
    "- `<abstract>` abstract\n",
    "- `<work-type>` kind of media or publication\n",
    "- `<research-notes>` notes on record\n",
    "- `<auth-address>` author location\n",
    "- `<custom2>` seems like an extra text field\n",
    "- `<access-date>` access date\n",
    "- `<section>` citation section"
   ]
  },
  {
   "cell_type": "code",
   "execution_count": 111,
   "id": "2d811392-25dd-48ff-8993-7a390dbe377a",
   "metadata": {
    "execution": {
     "iopub.execute_input": "2024-02-23T19:48:40.362707Z",
     "iopub.status.busy": "2024-02-23T19:48:40.361878Z",
     "iopub.status.idle": "2024-02-23T19:49:29.786544Z",
     "shell.execute_reply": "2024-02-23T19:49:29.784032Z",
     "shell.execute_reply.started": "2024-02-23T19:48:40.362648Z"
    },
    "tags": []
   },
   "outputs": [],
   "source": [
    "with open(\"../data/HumExMedMasterLibrary-Converted.xml\", \"r\") as f:\n",
    "    parser = bs4.BeautifulSoup(f.read(), \"xml\")"
   ]
  },
  {
   "cell_type": "code",
   "execution_count": 114,
   "id": "660f52ee-a438-4234-9f4d-c43e1aee914f",
   "metadata": {
    "execution": {
     "iopub.execute_input": "2024-02-23T19:51:36.947469Z",
     "iopub.status.busy": "2024-02-23T19:51:36.946442Z",
     "iopub.status.idle": "2024-02-23T19:51:37.655849Z",
     "shell.execute_reply": "2024-02-23T19:51:37.653432Z",
     "shell.execute_reply.started": "2024-02-23T19:51:36.947365Z"
    },
    "tags": []
   },
   "outputs": [
    {
     "data": {
      "text/plain": [
       "15502"
      ]
     },
     "execution_count": 114,
     "metadata": {},
     "output_type": "execute_result"
    }
   ],
   "source": [
    "records = parser.find_all(\"record\")\n",
    "len(records)"
   ]
  },
  {
   "cell_type": "code",
   "execution_count": 172,
   "id": "638e41c7-93cc-4a06-9957-41d8bde5e704",
   "metadata": {
    "execution": {
     "iopub.execute_input": "2024-02-26T04:35:56.287316Z",
     "iopub.status.busy": "2024-02-26T04:35:56.286229Z",
     "iopub.status.idle": "2024-02-26T04:35:56.309637Z",
     "shell.execute_reply": "2024-02-26T04:35:56.307550Z",
     "shell.execute_reply.started": "2024-02-26T04:35:56.287235Z"
    },
    "tags": []
   },
   "outputs": [],
   "source": [
    "def endnote_process_child(child:bs4.element.Tag) -> Tuple[str, str]:\n",
    "    name = child.name\n",
    "    contents = child.contents[0] if len(child.contents) else None\n",
    "\n",
    "    if isinstance(contents, bs4.element.NavigableString):\n",
    "        value = set((str(contents),))\n",
    "    elif isinstance(contents, bs4.element.Tag):\n",
    "        value = set((next(contents.children).string,))\n",
    "    elif contents is None:\n",
    "        value = set()\n",
    "    else:\n",
    "        raise Exception(f\"name:{name} had a value: {value}\")\n",
    "\n",
    "    return (name, value)\n",
    "\n",
    "def endnote_get_children_tag_names_values(parent:bs4.element.Tag) -> List[Tuple[str, str]]:\n",
    "    return list(map(\n",
    "        endnote_process_child,\n",
    "        parent.children,\n",
    "    ))"
   ]
  },
  {
   "cell_type": "code",
   "execution_count": 173,
   "id": "f3bacab3-98ea-41a4-aa1a-58dcc6f2cbc5",
   "metadata": {
    "execution": {
     "iopub.execute_input": "2024-02-26T04:36:04.802135Z",
     "iopub.status.busy": "2024-02-26T04:36:04.801313Z",
     "iopub.status.idle": "2024-02-26T04:37:05.546987Z",
     "shell.execute_reply": "2024-02-26T04:37:05.544724Z",
     "shell.execute_reply.started": "2024-02-26T04:36:04.802075Z"
    },
    "tags": []
   },
   "outputs": [
    {
     "data": {
      "application/vnd.jupyter.widget-view+json": {
       "model_id": "af7526abd1484350b280edfad4bc907c",
       "version_major": 2,
       "version_minor": 0
      },
      "text/plain": [
       "parsing records:   0%|          | 0/15502 [00:00<?, ?it/s]"
      ]
     },
     "metadata": {},
     "output_type": "display_data"
    }
   ],
   "source": [
    "tags_and_values = reduce(\n",
    "    update_dict_with_records, \n",
    "    chain.from_iterable(map(endnote_get_children_tag_names_values, tqdm(records, desc=\"parsing records\"))), \n",
    "    defaultdict(set)\n",
    ")"
   ]
  },
  {
   "cell_type": "code",
   "execution_count": 174,
   "id": "2b29e005-e701-4d06-b116-e46f73e2d964",
   "metadata": {
    "collapsed": true,
    "execution": {
     "iopub.execute_input": "2024-02-26T04:37:13.722534Z",
     "iopub.status.busy": "2024-02-26T04:37:13.720597Z",
     "iopub.status.idle": "2024-02-26T04:37:13.748548Z",
     "shell.execute_reply": "2024-02-26T04:37:13.746631Z",
     "shell.execute_reply.started": "2024-02-26T04:37:13.722473Z"
    },
    "jupyter": {
     "outputs_hidden": true
    },
    "tags": []
   },
   "outputs": [
    {
     "name": "stdout",
     "output_type": "stream",
     "text": [
      "Tag: <database>\n",
      "Unique values: 1\n",
      "5 samples: ['HumExMedMasterLibrary-Converted.enl']\n",
      "\n",
      "Tag: <source-app>\n",
      "Unique values: 1\n",
      "5 samples: ['EndNote']\n",
      "\n",
      "Tag: <rec-number>\n",
      "Unique values: 15502\n",
      "5 samples: ['916', '10843', '12062', '2710', '8408']\n",
      "\n",
      "Tag: <foreign-keys>\n",
      "Unique values: 15502\n",
      "5 samples: ['916', '10843', '12062', '2710', '8408']\n",
      "\n",
      "Tag: <ref-type>\n",
      "Unique values: 12\n",
      "5 samples: ['13', '12', '3', '6', '5']\n",
      "\n",
      "Tag: <contributors>\n",
      "Unique values: 6768\n",
      "5 samples: ['Markut, Lynda A.', 'Hathaway, Katharine', 'Clare,', 'Carpenter, Kim', 'Radner, Gilda']\n",
      "\n",
      "Tag: <titles>\n",
      "Unique values: 7901\n",
      "5 samples: ['The cancer monologue project', 'Visions and revisions : coming of age in the age of Aids', 'Shifāʼuddaulah kī sarguzasht', '<LEDJacek.pdf>', \"Atomes à l'heure du thé\"]\n",
      "\n",
      "Tag: <pages>\n",
      "Unique values: 4714\n",
      "5 samples: ['xxxiv, 257 p.', '585-97', '11-6', '370 p, 16 p of plates', 'xvi, 153 p.']\n",
      "\n",
      "Tag: <keywords>\n",
      "Unique values: 6212\n",
      "5 samples: ['Brill, Alida, 1950-', 'Fertilization in vitro, Human.', 'Panizza, Oskar, 1853-1921.', 'Anthropological museums and collections England Cambridge.', 'Fairclough, Philip L., 1951-']\n",
      "\n",
      "Tag: <dates>\n",
      "Unique values: 213\n",
      "5 samples: ['1972', '1993', '1995 ', '2003', '1976']\n",
      "\n",
      "Tag: <accession-num>\n",
      "Unique values: 9093\n",
      "5 samples: ['015972959', '6388783', '015742680', '3370967', '3982385']\n",
      "\n",
      "Tag: <call-num>\n",
      "Unique values: 3009\n",
      "5 samples: ['BODBL 24728 e.64/2\\rBodleian Library 24728 e.64/2', 'SCABL HM291.SOC 1998\\rSoc and Cultural Anth Library HM291.SOC 1998', 'BODBL M93.E02635\\rBodleian Library M93.E02635', 'BODBL 211 e.2192\\rBodleian Library 211 e.2192', 'BODBL\\rBodleian Library BODF Donation 25 SEP 2014.']\n",
      "\n",
      "Tag: <notes>\n",
      "Unique values: 8691\n",
      "5 samples: ['Richard H. Lampert.\\r25cm.\\rOffprint from: Transactions and studies of the college of physicians of Philadelphia.v.5, no.3 (1983)\\rTransactions and studies of the college of physicians of Philadelphia. [Offprint] ;', '98016753\\rRobertson McQuilkin.\\rill. ; 18 x 19 cm.\\rExpansion of two articles originally published in Christianity today.', '2011010059\\rDeborah Serani.\\r23 cm.\\rIncludes bibliographical references and index.', 'GBB520084\\r£9.99\\redited and with an introduction by David Fraser.\\rOn cover: Christian Watt papers : an extraordinary life\\rillustrations, genealogical tables, map, portraits ; 20 cm\\rOriginally published: Edinburgh : Paul Harris, 1988.\\rDescription based on reprint 2012.', '97019606\\rWenn Männer sich verheben. English\\rTilman Spengler ; translated by Philip Boehm.\\r22 cm.']\n",
      "\n",
      "Tag: <urls>\n",
      "Unique values: 2314\n",
      "5 samples: ['http://www.ncbi.nlm.nih.gov/pubmed/18575093', 'http://www.ncbi.nlm.nih.gov/pubmed/9921843', 'http://www.ncbi.nlm.nih.gov/pubmed/5673627', 'http://www.ncbi.nlm.nih.gov/pubmed/792991', 'http://www.ncbi.nlm.nih.gov/pubmed/11321901']\n",
      "\n",
      "Tag: <label>\n",
      "Unique values: 12\n",
      "5 samples: ['Buzzfeed', 'AOL AOL', 'Osler ', ' AOL', 'AOL\\rphotos : (B1 HEXI shelf) author portrait rear jacke tinsert; 79, 159, 208, 233, 260']\n",
      "\n",
      "Tag: <num-vols>\n",
      "Unique values: 66\n",
      "5 samples: ['1 sound cassette : analog ; 3 7/8 x 2 1/2 in., 1/8 in. tape.', '10 sound discs (12 hr..) : digital ; 4 3/4 in.', '1 DVD (87 min.) : sd., col. ; 4 3/4 in.', '3 sound discs (ca. 180 min.) : digital ; 4 3/4 in.', '6 sound discs (6 hr., 30 min.) : digital ; 4 3/4 in.']\n",
      "\n",
      "Tag: <pub-location>\n",
      "Unique values: 2203\n",
      "5 samples: ['Lond.', 'Shizuoka-ken Hamamatsu-shi', 'Folkestone', 'Bhubaneśvara\\rKaṭaka', 'San Antonio, Texas']\n",
      "\n",
      "Tag: <publisher>\n",
      "Unique values: 3975\n",
      "5 samples: ['University of Rochester Press', 'Duke University Medical Center', 'McLean Research Associates', 'Trinity Mirror Sport Media', 'Karnac']\n",
      "\n",
      "Tag: <isbn>\n",
      "Unique values: 7497\n",
      "5 samples: ['0813539005 (hardcover alk. paper)\\r9780813539003 (hardcover alk. paper)\\r0813539013 (pbk. alk. paper)\\r9780813539010 (pbk. alk. paper)', '090789402X (pbk)', '9780007317530 (pbk.)\\r0007317530 (pbk.)', '9780979338434 (hbk.)\\r0979338433 (hbk.)', '0804732027 (hbk)\\r0804736049 (pbk.)']\n",
      "\n",
      "Tag: <number>\n",
      "Unique values: 205\n",
      "5 samples: ['47', '12 Pt 1', 'no 6', 'CE241 Recorded Books', 'III']\n",
      "\n",
      "Tag: <edition>\n",
      "Unique values: 344\n",
      "5 samples: ['2013/07/23', 'Pathama ʼa krimʻ puṃ nhipʻ khraṅʻʺ.', '1st Karen Hunter Pub./Pocket Books trade pbk.', '1st Simon Spotlight Entertainment hardcover', '1st Touchstone hardcover']\n",
      "\n",
      "Tag: <periodical>\n",
      "Unique values: 381\n",
      "5 samples: ['Bull Med Libr Assoc', 'Stroke', 'Rev Med Suisse', 'Proc R Coll Physicians Edinb', 'Am J Orthopsychiatry']\n",
      "\n",
      "Tag: <volume>\n",
      "Unique values: 207\n",
      "5 samples: ['75', '74', '76', '47', '111']\n",
      "\n",
      "Tag: <electronic-resource-num>\n",
      "Unique values: 358\n",
      "5 samples: ['025195019620\\r00025195019620', '9780743521109', '10.1159/000343246', '10.1016/S0029-7437(08)70574-3', '10.1093/jmp/jhs013']\n",
      "\n",
      "Tag: <language>\n",
      "Unique values: 78\n",
      "5 samples: ['In Turkish.', 'In Malayalam.', 'In English, and one article in Chinese.', 'Undetermined U6 - 302 p. ill.', 'In Panjabi.']\n",
      "\n",
      "Tag: <orig-pub>\n",
      "Unique values: 122\n",
      "5 samples: [\"Fiziologiia mozga o proiskhozhdenii sub''ektivnogo mira cheloveka.\", 'K voprosu o sub\"ektivnom telesnom opyte pri ipokhondrii i somatoformnykh rasstroistvakh.', 'Schlafen allein genuigt nicht. Zur Funktion und Bedeutung des Wassers im Kult des antiken Heilgottes Asklepios.', 'Janusz Korczak--lekarz, pedagog, pisarz.', 'Hygieia og Asklepios']\n",
      "\n",
      "Tag: <alt-periodical>\n",
      "Unique values: 266\n",
      "5 samples: ['Stroke', 'Rev Med Suisse', 'J Physiol Anthropol', 'Am J Orthopsychiatry', 'J Appl Philos']\n",
      "\n",
      "Tag: <remote-database-name>\n",
      "Unique values: 2\n",
      "5 samples: ['htm', 'a9h']\n",
      "\n",
      "Tag: <remote-database-provider>\n",
      "Unique values: 2\n",
      "5 samples: ['EBSCOhost', 'NLM']\n",
      "\n",
      "Tag: <abstract>\n",
      "Unique values: 1074\n",
      "5 samples: ['Violence and aggression is common in psychiatric inpatient units. Despite the near universal prevalence of restraint, there is very little published research on either the efficacy or the subjective effects of restraint on staff or patients. In this pilot study, semistructured interviews were given to the patients and staff involved in six untoward incidents in which the patient participant had been subject to manual physical restraint. Participants were interviewed as soon as possible after the occurrence of the incidents. The interviews asked the patient and staff participants to identify and discuss the factors that they found helpful and unhelpful during and in the immediate aftermath of these incidents. The incidents generated strong emotions for all concerned. The patients valued staff time and attention but felt that they received too little attention. Both nurses and patients discriminated between permanent and temporary staff. Patients reported feeling upset, distressed and ignored prior to the incidents and isolated and ashamed afterwards. Postincident debriefing was valued by all but was patchy for staff and rarer still for patients. Patients feared the possibility of being restrained. Half of the patients and several staff members reported that the incidents had reawakened distressing memories of previous traumatic events. Further research on the subjective effects of restraint is urgently needed.', 'Autobiographical reminiscences of first Indian professor of medicine and his contribution in medical education.', 'Fifty-two subjects with panic disorder and generalized anxiety disorder were interviewed 12-18 months after they completed an acute treatment study (9-11 weeks) with alprazolam followed by blind and controlled drug discontinuation. Patients were questioned about the severity of their anxiety disorder and degree of functional impairment at the time of follow-up, as well as about their subjective experience as participants in a clinical trial. At the time of follow-up 78% of the patients reported none or minimal anxiety symptoms and 89% had none or only minimal functional deficit, as compared to 100% reporting moderate to severe anxiety symptoms and 57% reporting significant functional deficit before entering the study. Overall, patients felt that the participation in the study was a very positive and beneficial experience and 64% said they would not hesitate to participate in a clinical trial in the future.', \"BACKGROUND: While psychiatric literature has shown renewed interest in fine psychopathological investigation, little study has been devoted to the clinician's subjective experience with the patient, which is highly valued by the phenomenological and psychodynamic traditions. We aimed at developing a valid and reliable instrument to measure such experience. SAMPLING AND METHODS: First, 104 self-report items were developed, based on daily clinical practice and references from the literature on clinician's subjective experience. Of these, 46 were retained after pilot testing and exclusion of items with poor psychometric properties. Thirteen psychiatrists and 527 first-contact patients participated in the validation study. Psychiatrists completed the 'Assessment of Clinician's Subjective Experience' (ACSE) instrument and the Brief Psychiatric Rating Scale (BPRS) after the visit and the Profile of Mood State (POMS) before and after it. The ACSE was completed again for 60 patients with stable BPRS scores over a short retest interval. Principal component analysis with orthogonal rotation was performed. The internal consistency and test-retest stability of ACSE factorially derived scales were calculated. Convergent validity was tested by examining the correlations between ACSE scores and change in POMS scores during the visit. RESULTS: Five factors (interpreted as tension, difficulty of attunement, engagement, disconfirmation, impotence) accounting for 57% of total variance were extracted. All ACSE scales showed high internal consistency and stability, and correlated with conceptually related POMS scales. CONCLUSIONS: The pattern of subjective experience identified by the ACSE is consistent with classical psychopathological descriptions and previous related studies. Despite limitations such as the relatively small number of psychiatrists studied and the exclusively self-report nature of the instrument, this study supports the validity and reliability of the ACSE and suggests that it may be a valuable tool for training, research and possibly diagnostic purposes.\", '\"This memoir recounts one man\\'s experience when he became afflicted by electrical and multiple chemical sensitivities in his line of work as an engineer. The onset of the diseases is explored, as is his struggle with the mainstream medical establishment, which was largely hostile to his diagnosis\"--Provided by publisher.']\n",
      "\n",
      "Tag: <work-type>\n",
      "Unique values: 30\n",
      "5 samples: ['sound recording', 'Electronic and image data', 'M Phil', \"Revision of author's thesis\", ' photographic book']\n",
      "\n",
      "Tag: <research-notes>\n",
      "Unique values: 224\n",
      "5 samples: ['AOLInfection/AIDS HOR Chris', 'Scelerosis/Couser/Memoir', 'AOLWomensHealth/Infertility', 'Disability/Couser/Recovering Bodies HOR Chris', 'AOLMentalHealth/AutismAspergersSyndrome']\n",
      "\n",
      "Tag: <auth-address>\n",
      "Unique values: 502\n",
      "5 samples: ['Columbia University, USA', 'Department of Biochemistry, Institute of Lab Medicine and Research, The Mission Hospital, Durgapur, West Bengal, India.\\rFreelance Medical Writer, B12, Dronacharya Apartment, Mayur Vihar Extension, Delhi, India.', 'The Neurosciences Institute, San Diego, CA, USA. bbaars@comcast.net', 'Department of Psychology, University of Copenhagen, Denmark.', \"Centre for Medical Humanities, Durham University; Service User Research Enterprise, Institute of Psychiatry, King's College London, UK.\"]\n",
      "\n",
      "Tag: <custom2>\n",
      "Unique values: 100\n",
      "5 samples: ['2696365', '1069040', '2845975', '3111868', 'Producer, Laura Wilson.']\n",
      "\n",
      "Tag: <access-date>\n",
      "Unique values: 5\n",
      "5 samples: ['Apr', 'Apr 1', '20100302', 'May 15', '20100303']\n",
      "\n",
      "Tag: <section>\n",
      "Unique values: 2\n",
      "5 samples: ['208 p.', '53 p.']\n",
      "\n"
     ]
    }
   ],
   "source": [
    "for tag_name in tags_and_values:\n",
    "    print(f\"Tag: <{tag_name}>\") \n",
    "    print(f\"Unique values: {len(tags_and_values[tag_name])}\")\n",
    "    print(f\"5 samples: {list(tags_and_values[tag_name])[:5]}\")\n",
    "    print()\n",
    "            "
   ]
  }
 ],
 "metadata": {
  "kernelspec": {
   "display_name": "Python 3.9 (py39)",
   "language": "python",
   "name": "py39"
  },
  "language_info": {
   "codemirror_mode": {
    "name": "ipython",
    "version": 3
   },
   "file_extension": ".py",
   "mimetype": "text/x-python",
   "name": "python",
   "nbconvert_exporter": "python",
   "pygments_lexer": "ipython3",
   "version": "3.9.13"
  }
 },
 "nbformat": 4,
 "nbformat_minor": 5
}
